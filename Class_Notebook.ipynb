{
 "cells": [
  {
   "cell_type": "markdown",
   "id": "4ef4485e",
   "metadata": {},
   "source": [
    "# Ch9 Classes"
   ]
  },
  {
   "cell_type": "markdown",
   "id": "7b465366",
   "metadata": {},
   "source": [
    "### Python is an object oriented programming language.\n",
    "- Almost everything in Python is an object, with its properties and methods (Functions).\n",
    "- A Class is like an object constructor, or a \"blueprint\" for creating objects."
   ]
  },
  {
   "cell_type": "code",
   "execution_count": 24,
   "id": "741b88de",
   "metadata": {},
   "outputs": [
    {
     "name": "stdout",
     "output_type": "stream",
     "text": [
      "The email of first employee: angy.hill@company.com\n",
      "First name of employee1 Angy\n",
      "Last mname of employee1 Hill\n",
      "Age of employee2 35\n",
      "email of employee2 peter.white@company.com\n",
      "Full name of employee 1 Angy Hill\n",
      "Full name of employee 2 Peter White\n"
     ]
    },
    {
     "data": {
      "text/plain": [
       "'The full name: Peter White'"
      ]
     },
     "execution_count": 24,
     "metadata": {},
     "output_type": "execute_result"
    }
   ],
   "source": [
    "class Employee(): #name of the class\n",
    "#intit is the constructor of the class. It is mandatory for a class.\n",
    "#self is used to represent the isntance of the class.\n",
    "    def __init__(self, fn, ln, age, dept): \n",
    "    #method/function\n",
    "        self.fn=fn.title()\n",
    "        self.ln=ln.title()\n",
    "        self.age=age\n",
    "        self.dept=dept.title()\n",
    "        self.email=fn.lower()+\".\"+ln.lower()+\"@company.com\"\n",
    "    # Creating a method called fullname. It needs only the instance.\n",
    "    def fullname(self):\n",
    "        return (f\"The full name: {self.fn} {self.ln}\")\n",
    "        \n",
    "#init will run automatically when you call the class \n",
    "emp_1= Employee(\"Angy\",\"hill\",20,\"accounting\")\n",
    "emp_2= Employee(\"PETER\",\"WHITE\",35, \"finance\")\n",
    "\n",
    "print(f\"The email of first employee: {emp_1.email}\")\n",
    "print(f\"First name of employee1 {emp_1.fn}\")\n",
    "print(f\"Last mname of employee1 {emp_1.ln}\")\n",
    "print(f\"Age of employee2 {emp_2.age}\")\n",
    "print(f\"email of employee2 {emp_2.email}\")\n",
    "print(f\"Full name of employee 1 {emp_1.fn} {emp_1.ln}\")\n",
    "print(f\"Full name of employee 2 {emp_2.fn} {emp_2.ln}\")\n",
    "emp_1.fullname()\n",
    "emp_2.fullname()"
   ]
  },
  {
   "cell_type": "code",
   "execution_count": null,
   "id": "a9136cf8",
   "metadata": {},
   "outputs": [],
   "source": []
  },
  {
   "cell_type": "markdown",
   "id": "5d60f7c0",
   "metadata": {},
   "source": [
    "### Creating the Dog Class\n",
    "Each instance created from the Dog class will store a name and an age, and we’ll give each dog the ability to sit() and roll_over():"
   ]
  },
  {
   "cell_type": "code",
   "execution_count": 23,
   "id": "6e84155c",
   "metadata": {},
   "outputs": [
    {
     "name": "stdout",
     "output_type": "stream",
     "text": [
      "Shelly\n",
      "4\n",
      "Shelly is now sitting\n",
      "Shelly is rolling over\n",
      "Shelly shaked a random person\n",
      "Shelly is barking to a stranger\n",
      "Shelly is now down depressed.\n",
      "Penny is now sitting\n",
      "Penny is rolling over\n",
      "Penny shaked a random person\n",
      "Penny is barking to a stranger\n",
      "Penny is now down depressed.\n"
     ]
    }
   ],
   "source": [
    "class Dog():\n",
    "    def __init__(self,name,age):\n",
    "        self.name=name\n",
    "        self.age=age\n",
    "    def sit(self):\n",
    "        print(f\"{self.name} is now sitting\")\n",
    "    def rollover(self):\n",
    "        print(f\"{self.name} is rolling over\")\n",
    "    def shake(self):\n",
    "        print(f\"{self.name} shaked a random person\")\n",
    "    def bark(self):\n",
    "        print(f\"{self.name} is barking to a stranger\")\n",
    "    def down(self):\n",
    "        print(f\"{self.name} is now down depressed.\")\n",
    "\n",
    "dog1=Dog(\"Shelly\",4)\n",
    "print(dog1.name)\n",
    "print(dog1.age)\n",
    "dog1.sit()\n",
    "dog1.rollover()\n",
    "dog1.shake()\n",
    "dog1.bark()\n",
    "dog1.down()\n",
    "dog2=Dog(\"Penny\",1)\n",
    "dog2.sit()\n",
    "dog2.rollover()\n",
    "dog2.shake()\n",
    "dog2.bark()\n",
    "dog2.down()\n"
   ]
  },
  {
   "cell_type": "code",
   "execution_count": null,
   "id": "3c70e9c0",
   "metadata": {},
   "outputs": [],
   "source": [
    "\n"
   ]
  },
  {
   "cell_type": "markdown",
   "id": "8bbcc5c0",
   "metadata": {},
   "source": [
    "#### Note:\n",
    "- By convention, capitalized names refer to classes in Python. \n",
    "- The parentheses in the class definition are empty because we’re creating this class from scratch.\n",
    "- All classes have a function called __init__(), which is always executed when the class is being initiated.\n",
    "- Use the __init__() function to assign values to object properties, or other operations that are necessary to do when the object is being created\n",
    "- Any variable prefixed with `self` is available to every method in the class, and we’ll also be able to access these variables through any instance created from the class.\n",
    "- The Dog class has two other methods defined: sit() and roll_over().Because these methods don’t need additional information like a name or age, we just define them to have one parameter, self."
   ]
  },
  {
   "cell_type": "markdown",
   "id": "402f0696",
   "metadata": {},
   "source": [
    "### Restaurant: Make a class called Restaurant. The __init__() method for Restaurant should store two attributes: a restaurant_name and a cuisine_type.\n",
    "- Make a method called `describe_restaurant()` that prints name of teh restrurent and the cuisine type\n",
    "- and a method called open_restaurant() that prints a message indicating that the restaurant is open.\n",
    "- Make an instance called restaurant from your class. Print the two attributes individually, and then call both methods.\n"
   ]
  },
  {
   "cell_type": "code",
   "execution_count": 10,
   "id": "c4316b2d",
   "metadata": {},
   "outputs": [
    {
     "name": "stdout",
     "output_type": "stream",
     "text": [
      "restaurant name: The Mean Queen\n",
      "cuisine type: pizza\n",
      "The Mean Queen serves wonderful pizza food.\n",
      "The Mean Queen is open right now.\n"
     ]
    }
   ],
   "source": [
    "class Restaurant():\n",
    "    \n",
    "    def __init__(self,name,cuisine_type):\n",
    "        self.name=name.title()\n",
    "        self.cuisine_type=cuisine_type\n",
    "        \n",
    "    def describe_restaurant(self):\n",
    "        print(f\"{self.name} serves wonderful {self.cuisine_type} food.\")\n",
    "        \n",
    "    def open_restaurant(self):\n",
    "        print(f\"{self.name} is open right now.\")\n",
    "    \n",
    "restaurant1=Restaurant(\"The mean Queen\", \"pizza\")\n",
    "print(f\"restaurant name: {restaurant1.name}\")\n",
    "print(f\"cuisine type: {restaurant1.cuisine_type}\")\n",
    "\n",
    "restaurant1.describe_restaurant()\n",
    "restaurant1.open_restaurant()"
   ]
  },
  {
   "cell_type": "code",
   "execution_count": null,
   "id": "f9be3f46",
   "metadata": {},
   "outputs": [],
   "source": []
  },
  {
   "cell_type": "markdown",
   "id": "8b4a4fca",
   "metadata": {},
   "source": [
    "### - Create three different instances from the class, and call describe_restaurant() for each instance."
   ]
  },
  {
   "cell_type": "code",
   "execution_count": 11,
   "id": "b3845fe0",
   "metadata": {},
   "outputs": [
    {
     "name": "stdout",
     "output_type": "stream",
     "text": [
      "Domino'S serves wonderful pizza food.\n",
      "Caesar'S serves wonderful pizza food.\n",
      "Bearno'S serves wonderful pizza food.\n"
     ]
    }
   ],
   "source": [
    "r1=Restaurant(\"domino's\",\"pizza\")\n",
    "r2=Restaurant(\"Caesar's\",\"pizza\")\n",
    "r3=Restaurant(\"Bearno's\",\"pizza\")\n",
    "r1.describe_restaurant()\n",
    "r2.describe_restaurant()\n",
    "r3.describe_restaurant()"
   ]
  },
  {
   "cell_type": "markdown",
   "id": "8f4032c6",
   "metadata": {},
   "source": [
    "### Users: Make a class called User. Create attributes called first_name and last_name, username, location \n",
    "- Make a method called describe_user() that prints a summary of the user’s information. \n",
    "- Make another method called greet_user() that prints a personalized greeting to the user.\n",
    "- Create several instances representing different users, and call both methods for each user."
   ]
  },
  {
   "cell_type": "code",
   "execution_count": 18,
   "id": "dda94ce2",
   "metadata": {},
   "outputs": [
    {
     "name": "stdout",
     "output_type": "stream",
     "text": [
      "name: Eric Matthews, username: e_matthews, location: Alaska\n",
      "Welcome back, Eric!\n",
      "name: Willie Burger, username: w_burger, location: Alaska\n",
      "Welcome back, Willie!\n"
     ]
    }
   ],
   "source": [
    "class user():\n",
    "    def __init__(self,fn,ln,username,location):\n",
    "        self.fn=fn.title()\n",
    "        self.ln=ln.title()\n",
    "        self.username=username\n",
    "        self.location=location.title()\n",
    "        \n",
    "    def describe_user(self):\n",
    "        print(f\"name: {self.fn} {self.ln}, username: {self.username}, location: {self.location}\")\n",
    "    \n",
    "    def greet_user(self):\n",
    "        print(f\"Welcome back, {self.fn}!\")\n",
    "    \n",
    "user1=user('eric','matthews','e_matthews','alaska')\n",
    "user1.describe_user()\n",
    "user1.greet_user()\n",
    "\n",
    "user2=user('willie','burger','w_burger','alaska')\n",
    "user2.describe_user()\n",
    "user2.greet_user()"
   ]
  },
  {
   "cell_type": "code",
   "execution_count": null,
   "id": "8864d617",
   "metadata": {},
   "outputs": [],
   "source": []
  },
  {
   "cell_type": "markdown",
   "id": "8b5bfff2",
   "metadata": {},
   "source": [
    "## Setting a Default Value for an Attribute\n",
    "* Create a class called `car` which contain make, model and year.\n",
    "* Add a `odometer_reading` default to zero (new car). \n",
    "* Create a method called `get_descriptive_name` which return the car informations\n",
    "* Create a method called `read_odometer` which will display the odometer reading of the car. \n",
    "* Create two car attributes to test the code."
   ]
  },
  {
   "cell_type": "code",
   "execution_count": 16,
   "id": "bbdc7a10",
   "metadata": {},
   "outputs": [],
   "source": [
    "class car():\n",
    "    #Create a class called car which contain make, model and year.\n",
    "    def __init__(self,make,model,year):\n",
    "        self.make=make\n",
    "        self.model=model\n",
    "        self.year=year\n",
    "    \n",
    "    #Add a odometer_reading default to zero (new car).\n",
    "        self.odometer_reading=0\n",
    "        \n",
    "    def get_descriptive_name(self):\n",
    "        long_name=str(self.year)+\" \"+self.make+\" \"+self.model\n",
    "        return long_name.title()\n",
    "    \n",
    "    def get_odometer(self):\n",
    "        print(f\"This car has {self.odometer_reading} miles on it\")"
   ]
  },
  {
   "cell_type": "code",
   "execution_count": 18,
   "id": "35859896",
   "metadata": {
    "scrolled": true
   },
   "outputs": [
    {
     "name": "stdout",
     "output_type": "stream",
     "text": [
      "My car: 2019 Nissan Versa.\n",
      "This car has 0 miles on it\n",
      "friends car: 2018 Hyundai Elantra.\n",
      "This car has 0 miles on it\n"
     ]
    }
   ],
   "source": [
    "#Create two car attributes to test the code.\n",
    "my_car=car('Nissan','Versa',2019)\n",
    "friends_car=car('Hyundai','Elantra',2018)\n",
    "print(f\"My car: {my_car.get_descriptive_name()}.\")\n",
    "my_car.get_odometer()\n",
    "print(f\"friends car: {friends_car.get_descriptive_name()}.\")\n",
    "friends_car.get_odometer()"
   ]
  },
  {
   "cell_type": "markdown",
   "id": "ab619601",
   "metadata": {},
   "source": [
    "#### Modifying the odometer reading without the method"
   ]
  },
  {
   "cell_type": "code",
   "execution_count": 21,
   "id": "59bcb0de",
   "metadata": {},
   "outputs": [
    {
     "name": "stdout",
     "output_type": "stream",
     "text": [
      "This car has 23 miles on it\n"
     ]
    }
   ],
   "source": [
    "my_car.odometer_reading=23 #Overwrite the default alue\n",
    "my_car.get_odometer()"
   ]
  },
  {
   "cell_type": "code",
   "execution_count": 22,
   "id": "b865a32a",
   "metadata": {},
   "outputs": [
    {
     "name": "stdout",
     "output_type": "stream",
     "text": [
      "This car has 10 miles on it\n"
     ]
    }
   ],
   "source": [
    "friends_car.odometer_reading=10\n",
    "friends_car.get_odometer()"
   ]
  },
  {
   "cell_type": "markdown",
   "id": "27f8f244",
   "metadata": {},
   "source": [
    "### Modifying an Attribute’s Value Through a Method"
   ]
  },
  {
   "cell_type": "code",
   "execution_count": 29,
   "id": "9b3ae956",
   "metadata": {},
   "outputs": [],
   "source": [
    "class car():\n",
    "    #Create a class called car which contain make, model and year.\n",
    "    def __init__(self,make,model,year):\n",
    "        self.make=make\n",
    "        self.model=model\n",
    "        self.year=year\n",
    "    \n",
    "    #Add a odometer_reading default to zero (new car).\n",
    "        self.odometer_reading=0\n",
    "        \n",
    "    def get_descriptive_name(self):\n",
    "        long_name=str(self.year)+\" \"+self.make+\" \"+self.model\n",
    "        return long_name.title()\n",
    "    \n",
    "    def get_odometer(self):\n",
    "        print(f\"This car has {self.odometer_reading} miles on it\")\n",
    "    \n",
    "    def update_odometer(self,mileage):\n",
    "        self.odometer_reading=mileage     \n",
    "        print(\"new odometer:\",self.odometer_reading)"
   ]
  },
  {
   "cell_type": "code",
   "execution_count": 34,
   "id": "3c3c57c2",
   "metadata": {},
   "outputs": [
    {
     "name": "stdout",
     "output_type": "stream",
     "text": [
      "My car: 2019 Nissan Versa.\n",
      "This car has 0 miles on it\n",
      "new odometer: 23\n",
      "friends car: 2018 Hyundai Elantra.\n",
      "This car has 0 miles on it\n"
     ]
    }
   ],
   "source": [
    "my_car=car('Nissan','Versa',2019)\n",
    "friends_car=car('Hyundai','Elantra',2018)\n",
    "print(f\"My car: {my_car.get_descriptive_name()}.\")\n",
    "my_car.get_odometer()\n",
    "my_car.update_odometer(23)\n",
    "print(f\"friends car: {friends_car.get_descriptive_name()}.\")\n",
    "friends_car.get_odometer()"
   ]
  },
  {
   "cell_type": "markdown",
   "id": "fd560131",
   "metadata": {},
   "source": [
    "### Incrementing an Attribute’s Value Through a Method"
   ]
  },
  {
   "cell_type": "code",
   "execution_count": 31,
   "id": "8d76b884",
   "metadata": {},
   "outputs": [],
   "source": [
    "class car():\n",
    "    #Create a class called car which contain make, model and year.\n",
    "    def __init__(self,make,model,year):\n",
    "        self.make=make\n",
    "        self.model=model\n",
    "        self.year=year\n",
    "    \n",
    "    #Add a odometer_reading default to zero (new car).\n",
    "        self.odometer_reading=0\n",
    "        \n",
    "    def get_descriptive_name(self):\n",
    "        long_name=str(self.year)+\" \"+self.make+\" \"+self.model\n",
    "        return long_name.title()\n",
    "    \n",
    "    def get_odometer(self):\n",
    "        print(f\"This car has {self.odometer_reading} miles on it\")\n",
    "    \n",
    "    def update_odometer(self,mileage):\n",
    "        self.odometer_reading=mileage     \n",
    "        print(\"new odometer:\",self.odometer_reading)\n",
    "    \n",
    "    def add_odometer(self,mileage):\n",
    "        self.odometer_reading+=mileage     \n",
    "        print(\"new odometer:\",self.odometer_reading)"
   ]
  },
  {
   "cell_type": "code",
   "execution_count": 35,
   "id": "1500c7e7",
   "metadata": {},
   "outputs": [
    {
     "name": "stdout",
     "output_type": "stream",
     "text": [
      "My car: 2019 Nissan Versa.\n",
      "This car has 0 miles on it\n",
      "new odometer: 23\n",
      "new odometer: 123\n",
      "new odometer: 1123\n"
     ]
    }
   ],
   "source": [
    "my_car=car('Nissan','Versa',2019)\n",
    "friends_car=car('Hyundai','Elantra',2018)\n",
    "print(f\"My car: {my_car.get_descriptive_name()}.\")\n",
    "my_car.get_odometer()\n",
    "my_car.update_odometer(23)\n",
    "my_car.add_odometer(100)\n",
    "my_car.add_odometer(1000)"
   ]
  },
  {
   "cell_type": "markdown",
   "id": "b96f0d18",
   "metadata": {},
   "source": [
    "# Inheritance\n",
    "- You don’t always have to start from scratch when writing a class. If the class you’re writing is a specialized version of another class you wrote, you can use inheritance. \n",
    "- When one class inherits from another, it automatically takes on all the attributes and methods of the first class. The original class is called the `parent class`, and the new class is the `child class`. \n",
    "- The child class inherits every attribute and method from its parent class but is also free to define new attributes and methods of its own."
   ]
  },
  {
   "cell_type": "markdown",
   "id": "a1ab603b",
   "metadata": {},
   "source": [
    "### Parent Class- Polygon\n",
    "- Create a method called calc_perimeter"
   ]
  },
  {
   "cell_type": "code",
   "execution_count": 2,
   "id": "3185da36",
   "metadata": {},
   "outputs": [],
   "source": [
    "class Polygon:\n",
    "    def __init__(self,side_length):\n",
    "        self.side_length=side_length\n",
    "        \n",
    "    def perimeter(self):\n",
    "        return sum(self.side_length)"
   ]
  },
  {
   "cell_type": "code",
   "execution_count": 3,
   "id": "527eb8d8",
   "metadata": {},
   "outputs": [
    {
     "name": "stdout",
     "output_type": "stream",
     "text": [
      "23\n"
     ]
    }
   ],
   "source": [
    "some_shape=Polygon([1,3,5,6,8])\n",
    "print(some_shape.perimeter())"
   ]
  },
  {
   "cell_type": "code",
   "execution_count": 4,
   "id": "34de9649",
   "metadata": {},
   "outputs": [
    {
     "name": "stdout",
     "output_type": "stream",
     "text": [
      "177\n"
     ]
    }
   ],
   "source": [
    "another_shape=Polygon([2,56,65,12,34,8])\n",
    "print(another_shape.perimeter())"
   ]
  },
  {
   "cell_type": "markdown",
   "id": "c295f8bb",
   "metadata": {},
   "source": [
    "## Child Class"
   ]
  },
  {
   "cell_type": "markdown",
   "id": "10cb02ea",
   "metadata": {},
   "source": [
    "#### Create a child class called `Triangle` and calculate the perimeter and the area"
   ]
  },
  {
   "cell_type": "code",
   "execution_count": 8,
   "id": "f717023d",
   "metadata": {},
   "outputs": [],
   "source": [
    "class Triangle(Polygon):\n",
    "    def __init__(self,side_length):\n",
    "        super().__init__(side_length)\n",
    "        \n",
    "    def area(self):\n",
    "        a,b,c=self.side_length\n",
    "        s=(a+b+c)/2\n",
    "        return (s*(s-a)*(s-b)*(s-c))**.5"
   ]
  },
  {
   "cell_type": "code",
   "execution_count": 14,
   "id": "5d5f9fe6",
   "metadata": {},
   "outputs": [
    {
     "name": "stdout",
     "output_type": "stream",
     "text": [
      "The perimeter is 12\n",
      "The area is 6.0\n"
     ]
    }
   ],
   "source": [
    "a_triangle=Triangle([3,4,5])\n",
    "print(f\"The perimeter is {a_triangle.perimeter()}\")\n",
    "print(f\"The area is {(a_triangle.area())}\")"
   ]
  },
  {
   "cell_type": "markdown",
   "id": "fe33fd54",
   "metadata": {},
   "source": [
    "#### Create a child class called `Rectangle` and calculate the perimeter and the area"
   ]
  },
  {
   "cell_type": "code",
   "execution_count": 21,
   "id": "7b3336ce",
   "metadata": {},
   "outputs": [],
   "source": [
    " class Rectangle(Polygon):\n",
    "    def __init__(self,side_length):\n",
    "        super().__init__(side_length)\n",
    "        \n",
    "    def area(self):\n",
    "        a,b,c,d=self.side_length\n",
    "        if a!=b:\n",
    "            result=a*b\n",
    "        elif a!=c:\n",
    "            result=a*c\n",
    "        else:\n",
    "            result=a*d        \n",
    "        return result"
   ]
  },
  {
   "cell_type": "code",
   "execution_count": 23,
   "id": "fe18a9dc",
   "metadata": {},
   "outputs": [
    {
     "name": "stdout",
     "output_type": "stream",
     "text": [
      "The perimeter is 10\n",
      "The area is 6\n"
     ]
    }
   ],
   "source": [
    "arectangle=Rectangle([2,2,3,3])\n",
    "print(f\"The perimeter is {arectangle.perimeter()}\")\n",
    "print(f\"The area is {(arectangle.area())}\")"
   ]
  },
  {
   "cell_type": "markdown",
   "id": "a497c6c6",
   "metadata": {},
   "source": [
    "#### Create a child class called `square` and calculate the perimeter and the area"
   ]
  },
  {
   "cell_type": "code",
   "execution_count": 19,
   "id": "2b7c2461",
   "metadata": {},
   "outputs": [],
   "source": [
    "class  Square(Polygon):\n",
    "    def __init__(self,side_length):\n",
    "        super().__init__(side_length)\n",
    "        \n",
    "    def area(self):\n",
    "        s1,s2,s3,s4=self.side_length\n",
    "        return (s1**2) #all sides are equal."
   ]
  },
  {
   "cell_type": "code",
   "execution_count": 20,
   "id": "a295d6dc",
   "metadata": {},
   "outputs": [
    {
     "name": "stdout",
     "output_type": "stream",
     "text": [
      "The perimeter is 8\n",
      "The area is 4\n"
     ]
    }
   ],
   "source": [
    "asquare=Square([2,2,2,2])\n",
    "print(f\"The perimeter is {asquare.perimeter()}\")\n",
    "print(f\"The area is {(asquare.area())}\")"
   ]
  },
  {
   "cell_type": "markdown",
   "id": "5b594c20",
   "metadata": {},
   "source": [
    "### Practice: Create a class named Person, with firstname and lastname properties, and a printname method:"
   ]
  },
  {
   "cell_type": "code",
   "execution_count": 25,
   "id": "681edaaf",
   "metadata": {},
   "outputs": [],
   "source": [
    "class Person():\n",
    "    def __init__(self,fn,ln):\n",
    "        self.fn=fn.title()\n",
    "        self.ln=ln.title()\n",
    "        \n",
    "    def printname(self):\n",
    "        print(f\"Full name: {self.fn} {self.ln}\")"
   ]
  },
  {
   "cell_type": "code",
   "execution_count": 27,
   "id": "9d3a0e56",
   "metadata": {
    "scrolled": true
   },
   "outputs": [
    {
     "name": "stdout",
     "output_type": "stream",
     "text": [
      "Full name: A B\n",
      "Full name: C D\n"
     ]
    }
   ],
   "source": [
    "person1=Person(\"a\",\"b\")\n",
    "person2=Person(\"c\",\"d\")\n",
    "person1.printname()\n",
    "person2.printname()"
   ]
  },
  {
   "cell_type": "markdown",
   "id": "a8023470",
   "metadata": {},
   "source": [
    "### Create child classes called Student using Inheritance contains the first and last name and the graduation year \n",
    "- Add a method called `welcome` that prints the student graduation year\n",
    "- Test the student method for two students"
   ]
  },
  {
   "cell_type": "code",
   "execution_count": 47,
   "id": "8a1571d5",
   "metadata": {},
   "outputs": [],
   "source": [
    "class Student(Person):\n",
    "    def __init__(self,fn,ln,yr):\n",
    "        super().__init__(fn,ln)\n",
    "        self.yr=yr\n",
    "    \n",
    "    def welcome(self):\n",
    "        print(f\"Welcome, {self.fn} {self.ln} to the class of {self.yr}\")"
   ]
  },
  {
   "cell_type": "code",
   "execution_count": 50,
   "id": "5816f6a4",
   "metadata": {},
   "outputs": [
    {
     "name": "stdout",
     "output_type": "stream",
     "text": [
      "Full name: A B\n",
      "Welcome, A B to the class of 2027\n",
      "Full name: C D\n",
      "Welcome, C D to the class of 2026\n"
     ]
    }
   ],
   "source": [
    "Student1=Student(\"a\",\"b\",2027)\n",
    "Student1.printname()\n",
    "Student1.welcome()\n",
    "\n",
    "Student2=Student(\"c\",\"d\",2026)\n",
    "Student2.printname()\n",
    "Student2.welcome()\n"
   ]
  },
  {
   "cell_type": "markdown",
   "id": "1a41db97",
   "metadata": {},
   "source": [
    "### Create a parent class rectangle and two methods called area and perimeter"
   ]
  },
  {
   "cell_type": "code",
   "execution_count": 51,
   "id": "3d8377c4",
   "metadata": {},
   "outputs": [],
   "source": [
    "class Rectangle():\n",
    "    def __init__(self,length,width):\n",
    "        self.length=length\n",
    "        self.width=width\n",
    "        \n",
    "    def area(self):\n",
    "        return self.length*self.width\n",
    "    \n",
    "    def perimeter(self):\n",
    "        return 2*(self.length+self.width)"
   ]
  },
  {
   "cell_type": "markdown",
   "id": "3fb1b6cc",
   "metadata": {},
   "source": [
    "### Create a child class square and test for two cases, do method overloading for area and perimeter"
   ]
  },
  {
   "cell_type": "code",
   "execution_count": 52,
   "id": "4c112408",
   "metadata": {},
   "outputs": [],
   "source": [
    "class Square(Rectangle):\n",
    "    def __init__(self,length):\n",
    "        super().__init__(length,length)"
   ]
  },
  {
   "cell_type": "code",
   "execution_count": 53,
   "id": "245c9502",
   "metadata": {},
   "outputs": [
    {
     "name": "stdout",
     "output_type": "stream",
     "text": [
      "16\n",
      "16\n"
     ]
    }
   ],
   "source": [
    "square1=Square(4)\n",
    "print(square1.area())\n",
    "print(square1.perimeter())"
   ]
  },
  {
   "cell_type": "code",
   "execution_count": null,
   "id": "b58f33e3",
   "metadata": {},
   "outputs": [],
   "source": []
  },
  {
   "cell_type": "markdown",
   "id": "3bdcfd1c",
   "metadata": {},
   "source": [
    "## Create a simple calculator using classes"
   ]
  },
  {
   "cell_type": "code",
   "execution_count": 36,
   "id": "6ab4b4b1",
   "metadata": {},
   "outputs": [
    {
     "name": "stdout",
     "output_type": "stream",
     "text": [
      "Enter first number: 3\n",
      "Enter second number: 44\n",
      "\n",
      "0. Exit\n",
      "1. Addition\n",
      "2. Substraction\n",
      "3.Multiplication\n",
      "4. Division\n",
      "Enter your choice....1\n",
      "Result: 47.0\n",
      "\n",
      "0. Exit\n",
      "1. Addition\n",
      "2. Substraction\n",
      "3.Multiplication\n",
      "4. Division\n",
      "Enter your choice....2\n",
      "Result: -41.0\n",
      "\n",
      "0. Exit\n",
      "1. Addition\n",
      "2. Substraction\n",
      "3.Multiplication\n",
      "4. Division\n",
      "Enter your choice....3\n",
      "Result: 132.0\n",
      "\n",
      "0. Exit\n",
      "1. Addition\n",
      "2. Substraction\n",
      "3.Multiplication\n",
      "4. Division\n",
      "Enter your choice....4\n",
      "Result: 0.06818181818181818\n",
      "\n",
      "0. Exit\n",
      "1. Addition\n",
      "2. Substraction\n",
      "3.Multiplication\n",
      "4. Division\n",
      "Enter your choice....5\n",
      "Sorry. invalid input.\n",
      "\n",
      "0. Exit\n",
      "1. Addition\n",
      "2. Substraction\n",
      "3.Multiplication\n",
      "4. Division\n",
      "Enter your choice....0\n",
      "Exit\n"
     ]
    }
   ],
   "source": [
    "class calculator():\n",
    "    def __init__(self,input1,input2):\n",
    "        self.input1=input1\n",
    "        self.input2=input2\n",
    "    def addition(self):\n",
    "        return self.input1+self.input2\n",
    "    def substraction(self):\n",
    "        return self.input1-self.input2\n",
    "    def multiplication(self):\n",
    "        return self.input1*self.input2\n",
    "    def division(self):\n",
    "        return self.input1/self.input2\n",
    "\n",
    "input_1=float(input(\"Enter first number: \"))\n",
    "input_2=float(input(\"Enter second number: \"))\n",
    "my_calc=calculator(input_1,input_2)\n",
    "\n",
    "choice=1\n",
    "while choice!=0:\n",
    "    print()\n",
    "    print(\"0. Exit\")\n",
    "    print(\"1. Addition\")\n",
    "    print(\"2. Substraction\")\n",
    "    print(\"3.Multiplication\")\n",
    "    print(\"4. Division\")\n",
    "    choice=int(input(\"Enter your choice....\"))\n",
    "    \n",
    "    if choice==1:\n",
    "        print(f\"Result: {my_calc.addition()}\")\n",
    "    \n",
    "    elif choice==2:\n",
    "        print(f\"Result: {my_calc.substraction()}\")\n",
    "    \n",
    "    elif choice==3:\n",
    "        print(f\"Result: {my_calc.multiplication()}\")\n",
    "    \n",
    "    elif choice==4:\n",
    "        print(f\"Result: {my_calc.division()}\")\n",
    "\n",
    "    elif choice==0:\n",
    "        print(\"Exit\")\n",
    "        \n",
    "    else:\n",
    "        print(\"Sorry. invalid input.\")"
   ]
  },
  {
   "cell_type": "code",
   "execution_count": null,
   "id": "a7a954a0",
   "metadata": {},
   "outputs": [],
   "source": []
  },
  {
   "cell_type": "code",
   "execution_count": null,
   "id": "39c3dee9",
   "metadata": {},
   "outputs": [],
   "source": []
  },
  {
   "cell_type": "markdown",
   "id": "0ec161b5",
   "metadata": {},
   "source": [
    "## ATM machine "
   ]
  },
  {
   "cell_type": "code",
   "execution_count": null,
   "id": "267c3e25",
   "metadata": {},
   "outputs": [],
   "source": []
  },
  {
   "cell_type": "code",
   "execution_count": null,
   "id": "a6e40459",
   "metadata": {},
   "outputs": [],
   "source": []
  },
  {
   "cell_type": "code",
   "execution_count": null,
   "id": "5349965d",
   "metadata": {},
   "outputs": [],
   "source": []
  }
 ],
 "metadata": {
  "kernelspec": {
   "display_name": "Python 3 (ipykernel)",
   "language": "python",
   "name": "python3"
  },
  "language_info": {
   "codemirror_mode": {
    "name": "ipython",
    "version": 3
   },
   "file_extension": ".py",
   "mimetype": "text/x-python",
   "name": "python",
   "nbconvert_exporter": "python",
   "pygments_lexer": "ipython3",
   "version": "3.9.13"
  }
 },
 "nbformat": 4,
 "nbformat_minor": 5
}
